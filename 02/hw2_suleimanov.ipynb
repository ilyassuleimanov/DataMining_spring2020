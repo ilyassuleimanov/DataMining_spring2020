{
 "cells": [
  {
   "cell_type": "markdown",
   "metadata": {},
   "source": [
    "# Алгоритмы интеллектуальной обработки больших объемов данных\n",
    "## Домашнее задание №2: Линейные модели\n"
   ]
  },
  {
   "cell_type": "markdown",
   "metadata": {},
   "source": [
    "###### <hr\\>\n",
    "**Общая информация**\n",
    "\n",
    "**Срок сдачи:** 24 марта 18:00 Сдача **очная** на занятии. <br\\>\n",
    "\n",
    "\n",
    "Используйте данный Ipython Notebook при оформлении домашнего задания.\n",
    "\n",
    "**Штрафные баллы:**\n",
    "\n",
    "1. Невыполнение PEP8 -1 балл\n",
    "2. Отсутствие фамилии в имени скрипта (скрипт должен называться по аналогии со stroykova_hw2.ipynb) -1 балл\n",
    "3. Все строчки должны быть выполнены. Нужно, чтобы output команды можно было увидеть уже в git'е. В противном случае -1 балл\n",
    "4. При оформлении ДЗ нужно пользоваться данным файлом в качестве шаблона. Не нужно удалять и видоизменять написанный код и текст, если явно не указана такая возможность. В противном случае -1 балл\n",
    "<hr\\>"
   ]
  },
  {
   "cell_type": "code",
   "execution_count": 69,
   "metadata": {},
   "outputs": [],
   "source": [
    "import pandas as pd\n",
    "import numpy as np\n",
    "import matplotlib.pyplot as plt\n",
    "import warnings\n",
    "warnings.filterwarnings('ignore')\n",
    "\n",
    "%matplotlib inline\n",
    "\n",
    "plt.style.use('ggplot')\n",
    "plt.rcParams['figure.figsize'] = (12,5)"
   ]
  },
  {
   "cell_type": "markdown",
   "metadata": {},
   "source": [
    "Здравствуйте, уважаемые студенты! \n",
    "\n",
    "В этом задании мы будем реализовать линейные модели. Необходимо реализовать линейную и логистическую регрессии с L2 регуляризацией"
   ]
  },
  {
   "cell_type": "markdown",
   "metadata": {},
   "source": [
    "# Теоретическое введение\n",
    "\n"
   ]
  },
  {
   "cell_type": "markdown",
   "metadata": {},
   "source": [
    "Линейная регрессия решает задачу регрессии и оптимизирует функцию потерь MSE \n",
    "\n",
    "$$L(w) =  \\frac{1}{N}\\left[\\sum_i (y_i - a_i) ^ 2 \\right], $$ где $y_i$ $-$ целевая функция,  $a_i = a(x_i) =  \\langle\\,x_i,w\\rangle ,$ $-$ предсказание алгоритма на объекте $x_i$, $w$ $-$ вектор весов (размерности $D$), $x_i$ $-$ вектор признаков (такой же размерности $D$).\n",
    "\n",
    "Не забываем, что здесь и далее  мы считаем, что в $x_i$ есть тождественный вектор единиц, ему соответствует вес $w_0$.\n"
   ]
  },
  {
   "cell_type": "markdown",
   "metadata": {},
   "source": [
    "Логистическая регрессия является линейным классификатором, который оптимизирует так называемый функционал log loss:"
   ]
  },
  {
   "cell_type": "markdown",
   "metadata": {},
   "source": [
    "$$L(w) = - \\frac{1}{N}\\left[\\sum_i y_i \\log a_i + ( 1 - y_i) \\log (1 - a_i) \\right],$$\n",
    "где  $y_i  \\in \\{0,1\\}$ $-$ метка класса, $a_i$ $-$ предсказание алгоритма на объекте $x_i$. Модель пытается предсказать апостериорую вероятность объекта принадлежать к классу \"1\":\n",
    "$$ p(y_i = 1 | x_i) = a(x_i) =  \\sigma( \\langle\\,x_i,w\\rangle ),$$\n",
    "$w$ $-$ вектор весов (размерности $D$), $x_i$ $-$ вектор признаков (такой же размерности $D$).\n",
    "\n",
    "Функция $\\sigma(x)$ $-$ нелинейная функция, пероводящее скалярное произведение объекта на веса в число $\\in (0,1)$ (мы же моделируем вероятность все-таки!)\n",
    "\n",
    "$$\\sigma(x) = \\frac{1}{1 + \\exp(-x)}$$\n",
    "\n",
    "Если внимательно посмотреть на функцию потерь, то можно заметить, что в зависимости от правильного ответа алгоритм штрафуется или функцией $-\\log a_i$, или функцией $-\\log (1 - a_i)$.\n",
    "\n"
   ]
  },
  {
   "cell_type": "markdown",
   "metadata": {},
   "source": [
    "Часто для решения проблем, которые так или иначе связаны с проблемой переобучения, в функционал качества добавляют слагаемое, которое называют ***регуляризацией***. Итоговый функционал для линейной регрессии тогда принимает вид:\n",
    "\n",
    "$$L(w) =  \\frac{1}{N}\\left[\\sum_i (y_i - a_i) ^ 2 \\right] + \\frac{1}{C}R(w) $$\n",
    "\n",
    "Для логистической: \n",
    "$$L(w) = - \\frac{1}{N}\\left[\\sum_i y_i \\log a_i + ( 1 - y_i) \\log (1 - a_i) \\right] +  \\frac{1}{C}R(w)$$\n",
    "\n",
    "Самое понятие регуляризации введено основателем ВМК академиком Тихоновым https://ru.wikipedia.org/wiki/Метод_регуляризации_Тихонова\n",
    "\n",
    "Идейно методика регуляризации заключается в следующем $-$ мы рассматриваем некорректно поставленную задачу (что это такое можно найти в интернете), для того чтобы сузить набор различных вариантов (лучшие из которых будут являться переобучением ) мы вводим дополнительные ограничения на множество искомых решений. На лекции Вы уже рассмотрели два варианта регуляризации.\n",
    "\n",
    "$L1$ регуляризация:\n",
    "$$R(w) = \\sum_{j=1}^{D}|w_j|$$\n",
    "$L2$ регуляризация:\n",
    "$$R(w) =  \\sum_{j=1}^{D}w_j^2$$\n",
    "\n",
    "С их помощью мы ограничиваем модель в  возможности выбора каких угодно весов минимизирующих наш лосс, модель уже не сможет подстроиться под данные как ей угодно. \n",
    "\n",
    "Вам нужно добавить соотвествущую Вашему варианту $L2$ регуляризацию.\n",
    "\n",
    "И так, мы поняли, какую функцию ошибки будем минимизировать, разобрались, как получить предсказания по объекту и обученным весам. Осталось разобраться, как получить оптимальные веса. Для этого нужно выбрать какой-то метод оптимизации.\n",
    "\n"
   ]
  },
  {
   "cell_type": "markdown",
   "metadata": {},
   "source": [
    "Градиентный спуск является самым популярным алгоритмом обучения линейных моделей. В этом задании Вам предложат реализовать стохастический градиентный спуск или  мини-батч градиентный спуск (мини-батч на русский язык довольно сложно перевести, многие переводят это как \"пакетный\", но мне не кажется этот перевод удачным). Далее нам потребуется определение **эпохи**.\n",
    "Эпохой в SGD и MB-GD называется один проход по **всем** объектам в обучающей выборки.\n",
    "* В SGD градиент расчитывается по одному случайному объекту. Сам алгоритм выглядит примерно так:\n",
    "        1) Перемешать выборку\n",
    "        2) Посчитать градиент функции потерь на одном объекте (далее один объект тоже будем называть батчем)\n",
    "        3) Сделать шаг спуска\n",
    "        4) Повторять 2) и 3) пока не пройдет максимальное число эпох.\n",
    "* В Mini Batch SGD - по подвыборке объектов. Сам алгоритм выглядит примерно так::\n",
    "        1) Перемешать выборку, выбрать размер мини-батча (от 1 до размера выборки)\n",
    "        2) Почитать градиент функции потерь по мини-батчу (не забыть поделить на  число объектов в мини-батче)\n",
    "        3) Сделать шаг спуска\n",
    "        4) Повторять 2) и 3) пока не пройдет максимальное число эпох.\n",
    "* Для отладки алгоритма реализуйте возможность  вывода средней ошибки на обучении модели по объектам (мини-батчам). После шага градиентного спуска посчитайте значение ошибки на объекте (или мини-батче), а затем усредните, например, по ста шагам. Если обучение проходит корректно, то мы должны увидеть, что каждые 100 шагов функция потерь уменьшается. \n",
    "* Правило останова - максимальное количество эпох\n",
    "    \n"
   ]
  },
  {
   "cell_type": "markdown",
   "metadata": {},
   "source": [
    "# Теоретические вопросы (2 балла)\n",
    "В этой части Вам будут предложены теоретичские вопросы и задачи по теме. Вы, конечно, можете списать их у своего товарища или найти решение в интернете, но учтите, что они обязательно войдут в теоретический коллоквиум. Лучше разобраться в теме сейчас и успешно ответить на коллоквиуме, чем списать, не разобравшись в материале, и быть терзаемым совестью. \n",
    "\n",
    "\n",
    "Формулы надо оформлять в формате **LaTeX**."
   ]
  },
  {
   "cell_type": "markdown",
   "metadata": {},
   "source": [
    "Задача 1. Градиент для линейной регрессии.\n",
    "* Выпишите формулу обновления весов для линейной регрессии с L2 регуляризацией для мини-батч градиентого спуска размера $n$:\n",
    "\n",
    "$$ w_{new} = w_{old} - ... $$\n",
    "\n",
    " Отнеситесь к этому пункту максимально серьезно, это Вам нужно будет реализовать в задании.\n",
    " \n",
    "Проанализруйте итоговую формулу градиента - как  интуитивно можно  описать, чему равен градиент?"
   ]
  },
  {
   "cell_type": "markdown",
   "metadata": {},
   "source": [
    "***Ваше решение здесь***\n",
    "$$w_{new} = w_{old} -  \\frac{2\\alpha}{N} X_{n}^T(X_{n} * w_{old} - y_{n}) - \\frac{2\\alpha}{C}w_{old} $$\n"
   ]
  },
  {
   "cell_type": "markdown",
   "metadata": {},
   "source": [
    "Задача 2. Градиент для логистической регрессии.\n",
    "* Выпишите формулу обновления весов для логистической регрессии с L2 регуляризацией  для мини-батч градиентого спуска размера $n$:\n",
    "\n",
    "$$ w_{new} = w_{old} - ... $$\n",
    "\n",
    " Отнеситесь к этому пункту максимально серьезно, это Вам нужно будет реализовать в задании.\n",
    " \n",
    "Проанализруйте итоговую формулу градиента - как  интуитивно можно  описать, чему равен градиент? Как соотносится этот градиент с градиентом, возникающий в задаче линейной регрессии?\n",
    "\n",
    "Подсказка: Вам градиент, которой получается если “в лоб” продифференцировать,  надо немного преобразовать.\n",
    "Надо подставить, что $1 - \\sigma(w,x) $ это  $1 - a(x_i)$, а  $-\\sigma(w,x)$ это $0 - a(x_i)$.  Тогда получится свести к одной красивой формуле с линейной регрессией, которую программировать будет намного проще."
   ]
  },
  {
   "cell_type": "markdown",
   "metadata": {},
   "source": [
    "***Ваше решение здесь***\n",
    "$$w_{new} = w_{old} - \\alpha(\\frac{1}{N}\\sum_{i=1}^N(( \\sigma(<x_{i}, w>) - y_{i})x_i) + \\frac{2w}{C}) $$\n",
    "\n",
    "в матричной форме:\n",
    "$$w_{new} = w_{old} - \\alpha(\\frac{1}{N}(X^T( \\sigma(Xw) - y)) + \\frac{2w}{C}) $$\n"
   ]
  },
  {
   "cell_type": "markdown",
   "metadata": {},
   "source": [
    "Задача 3. Точное решение линейной регрессии\n",
    "\n",
    "На лекции было показано, что точное решение линейной регрессии имеет вид $w = (X^TX)^{-1}X^TY $. \n",
    "* Покажите, что это действительно является точкой минимума в случае, если матрица X имеет строк не меньше, чем столбцов и имеет полный ранг. Подсказка: посчитайте Гессиан и покажите, что в этом случае он положительно определен. \n",
    "* Выпишите точное решение для модели с $L2$ регуляризацией. Как L2 регуляризация помогает с точным решением где матрица X имеет линейно зависимые признаки?"
   ]
  },
  {
   "cell_type": "markdown",
   "metadata": {},
   "source": [
    "***Ваше решение здесь***\n",
    "$$ H_{i,j} = \\frac{\\partial^2L(w)}{\\partial w_{i}\\partial w_{j}} $$  \n",
    "\n",
    "$$L(w) =  \\frac{1}{n}\\left[\\sum_i (\\langle x_{i},w \\rangle - y_i) ^ 2 \\right] $$  \n",
    "\n",
    "В матричном виде\n",
    "\n",
    "$$ L(w) = \\frac{1}{n} (Xw - y)^T(Xw - y) + \\frac{1}{C}w^Tw = \\frac{1}{n} (w^TX^TXw - w^TX^Ty - y^TXw + y^Ty)$$  \n",
    "\n",
    "\n",
    "$$ \\nabla L(w) = \\frac{1}{n} (X^TX + X^TX)w - 2X^Ty + \\frac{1}{C}(I^T + I)w = \\frac{2}{n} (X^TXw - X^Ty)$$  \n",
    "\n",
    "$$ \\nabla^2 L(w) = \\frac{2}{n} X^TX$$  \n",
    "\n",
    "$$ \\forall z: z^T (X^TX)(X^TX)^T z = \\left[(X^TX)^Tx\\right]^T \\left[(X^TX)^Tx\\right] > 0$$  \n",
    "\n",
    "Значит это и правда точка минимума. Теперь найдем точное решение.\n",
    "\n",
    "$$ L(w) = \\frac{2}{n} (X^TXw - 2X^Ty) + \\frac{2}{C}w$$  \n",
    "\n",
    "$$ X^TXw - X^Ty + \\frac{n}{C}w = 0 $$  \n",
    "\n",
    "$$ (X^TX + \\frac{n}{C} I)w = X^Ty$$  \n",
    "\n",
    "$$ w = (X^TX + \\frac{n}{C} I)^{-1}X^Ty $$  \n",
    "\n",
    "Благодаря регуляризации матрица слева обратима"
   ]
  },
  {
   "cell_type": "markdown",
   "metadata": {},
   "source": [
    "Задача 4.  Предсказываем вероятности.\n",
    "\n",
    "Когда говорят о логистической регрессии, произносят фразу, что она \"предсказывает вероятности положительного класса\". Давайте разберемся, что же за этим стоит. Посчитаем математическое ожидание функции потерь и проверим, что предсказание алгоритма, оптимизирующее это мат. ожидание, будет являться вероятностью положительного класса. \n",
    "\n",
    "И так, функция потерь на объекте $x_i$, который имеет метку $y_i \\in \\{0,1\\}$  для предсказания $a(x_i)$ равна:\n",
    "$$L(y_i, b) =-[y_i == 1] \\log a(x_i)  - [y_i == 0] \\log(1 - a(x_i)) $$\n",
    "\n",
    "Где $[]$ означает индикатор $-$ он равен единице, если значение внутри него истинно, иначе он равен нулю. Тогда мат. ожидание при условии конкретного $x_i$  по определение мат. ожидания дискретной случайной величины:\n",
    "$$E(L | x_i) = -p(y_i = 1 |x_i ) \\log a(x_i)  - p(y_i = 0 | x_i) \\log( 1 - a(x_i))$$\n",
    "* Докажите, что значение $a(x_i)$, минимизирующее данное мат. ожидание, в точности равно $p(y_i = 1 |x_i)$, то есть равно вероятности положительного класса.\n",
    "\n",
    "Подсказка: возможно, придется воспользоваться, что  $p(y_i = 1 | x_i) + p(y_i = 0 | x_i) = 1$"
   ]
  },
  {
   "cell_type": "markdown",
   "metadata": {},
   "source": [
    "***Ваше решение здесь***\n",
    "\n",
    "По условию экстремума:\n",
    "\n",
    "$$ \\frac{\\partial E(L|x_i)}{\\partial a} = -p(y_i = 1|x_i)\\frac{1}{a(x_i)} + p(y_i = 0|x_i) \\frac{1}{1 - a(x_i)} = 0$$  \n",
    "\n",
    "$$ p(y_i = 1|x_i)\\frac{1}{a(x_i)} = (1 - p(y_i = 1|x_i))\\frac{1}{1 - a(x_i)}$$  \n",
    "\n",
    "$$ p(y_i = 1|x_i)(1 - a(x_i)) = a(x_i)(1 - p(y_i = 1|x_i)) $$  \n",
    "\n",
    "$$ p(y_i = 1|x_i) = a(x_i) $$ "
   ]
  },
  {
   "cell_type": "markdown",
   "metadata": {},
   "source": [
    "Задача 5.  Смысл регуляризации.\n",
    "\n",
    "Нужно ли в L1/L2 регуляризации использовать свободный член $w_0$ (который не умножается ни на какой признак)?\n",
    "\n",
    "Подсказка: подумайте, для чего мы вводим $w_0$"
   ]
  },
  {
   "cell_type": "markdown",
   "metadata": {},
   "source": [
    "***Ваше решение здесь***\n",
    "\n",
    "Думаю, не нужно, т.к. он отвечает за смешение, а если его ограничивать регуляризацией, то его значение может не стать достаточным для оптимального решения"
   ]
  },
  {
   "cell_type": "markdown",
   "metadata": {},
   "source": [
    "#  Реализация линейной модели (4 балла)"
   ]
  },
  {
   "cell_type": "markdown",
   "metadata": {},
   "source": [
    "## Зачем нужны батчи?\n"
   ]
  },
  {
   "cell_type": "markdown",
   "metadata": {},
   "source": [
    "Как Вы могли заметить из теоретического введения, что в случае SGD, что в случа mini-batch GD,  на каждой итерации обновление весов  происходит только по небольшой части данных (1 пример в случае SGD, batch примеров в случае mini-batch). То есть для каждой итерации нам *** не нужна вся выборка***. Мы можем просто итерироваться по выборке, беря батч нужного размера (далее 1 объект тоже будем называть батчом).\n",
    "\n",
    "Легко заметить, что в этом случае нам не нужно загружать все данные в оперативную память, достаточно просто считать батч с диска, обновить веса, считать диска другой батч и так далее. В целях упрощения домашней работы, прямо с диска  мы считывать не будем, будем работать с обычными numpy array. \n",
    "\n",
    "\n",
    "\n"
   ]
  },
  {
   "cell_type": "markdown",
   "metadata": {},
   "source": [
    "## Немножко про генераторы в Python\n",
    "\n"
   ]
  },
  {
   "cell_type": "markdown",
   "metadata": {},
   "source": [
    "Идея считывания данных кусками удачно ложится на так называемые ***генераторы*** из языка Python. В данной работе Вам предлагается не только разобраться с логистической регрессией, но  и познакомиться с таким важным элементом языка.  При желании Вы можете убрать весь код, связанный с генераторами, и реализовать логистическую регрессию и без них, ***штрафоваться это никак не будет***. Главное, чтобы сама модель была реализована правильно, и все пункты были выполнены. \n",
    "\n",
    "Подробнее можно почитать вот тут https://anandology.com/python-practice-book/iterators.html\n"
   ]
  },
  {
   "cell_type": "markdown",
   "metadata": {},
   "source": [
    "К генератору стоит относиться просто как к функции, которая порождает не один объект, а целую последовательность объектов. Новое значение из последовательности генерируется с помощью ключевого слова ***yield***. Ниже Вы можете насладиться  генератором чисел Фибоначчи."
   ]
  },
  {
   "cell_type": "code",
   "execution_count": 122,
   "metadata": {
    "collapsed": true
   },
   "outputs": [],
   "source": [
    "def fib(max_iter=4):\n",
    "    a, b = 0, 1\n",
    "    iter_num = 0\n",
    "    while 1:\n",
    "        yield a\n",
    "        a, b = b, a + b\n",
    "        iter_num += 1\n",
    "        if iter_num == max_iter:\n",
    "            break"
   ]
  },
  {
   "cell_type": "markdown",
   "metadata": {},
   "source": [
    "Вот так можно сгенерировать последовательность Фибоначчи. \n",
    "\n",
    "Заметьте, что к генераторам можно применять некоторые стандартные функции из Python, например enumerate."
   ]
  },
  {
   "cell_type": "code",
   "execution_count": 123,
   "metadata": {},
   "outputs": [
    {
     "name": "stdout",
     "output_type": "stream",
     "text": [
      "Fib num: 0 fib values: 0\n",
      "Fib num: 1 fib values: 1\n",
      "Fib num: 2 fib values: 1\n",
      "Fib num: 3 fib values: 2\n"
     ]
    }
   ],
   "source": [
    "new_generator = fib()\n",
    "for j, fib_val in enumerate(new_generator):\n",
    "    print (\"Fib num: \" + str(j) + \" fib values: \" + str(fib_val))"
   ]
  },
  {
   "cell_type": "markdown",
   "metadata": {},
   "source": [
    "Пересоздавая объект, можно сколько угодно раз генерировать заново последовательность. "
   ]
  },
  {
   "cell_type": "code",
   "execution_count": 127,
   "metadata": {},
   "outputs": [
    {
     "name": "stdout",
     "output_type": "stream",
     "text": [
      "Fib num: 0 fib values: 0\n",
      "Fib num: 1 fib values: 1\n",
      "Fib num: 2 fib values: 1\n",
      "Fib num: 3 fib values: 2\n",
      "Fib num: 0 fib values: 0\n",
      "Fib num: 1 fib values: 1\n",
      "Fib num: 2 fib values: 1\n",
      "Fib num: 3 fib values: 2\n",
      "Fib num: 0 fib values: 0\n",
      "Fib num: 1 fib values: 1\n",
      "Fib num: 2 fib values: 1\n",
      "Fib num: 3 fib values: 2\n"
     ]
    }
   ],
   "source": [
    "for i in range(0, 3):\n",
    "    new_generator = fib()\n",
    "    for j, fib_val in enumerate(new_generator):\n",
    "        print (\"Fib num: \" + str(j) + \" fib values: \" + str(fib_val))"
   ]
  },
  {
   "cell_type": "markdown",
   "metadata": {},
   "source": [
    "А вот так уже нельзя."
   ]
  },
  {
   "cell_type": "code",
   "execution_count": 128,
   "metadata": {},
   "outputs": [
    {
     "name": "stdout",
     "output_type": "stream",
     "text": [
      "Fib num: 0 fib values: 0\n",
      "Fib num: 1 fib values: 1\n",
      "Fib num: 2 fib values: 1\n",
      "Fib num: 3 fib values: 2\n"
     ]
    }
   ],
   "source": [
    "new_generator = fib()\n",
    "for i in range(0, 3):\n",
    "    for j, fib_val in enumerate(new_generator):\n",
    "        print (\"Fib num: \" + str(j) + \" fib values: \" + str(fib_val))"
   ]
  },
  {
   "cell_type": "markdown",
   "metadata": {},
   "source": [
    "Концепция крайне удобная для обучения  моделей $-$ у Вас есть некий источник данных, который Вам выдает их кусками, и Вам совершенно все равно откуда он их берет. Под ним может скрывать как массив в оперативной памяти, как файл на жестком диске, так и SQL база данных. Вы сами данные никуда не сохраняете, оперативную память экономите."
   ]
  },
  {
   "cell_type": "markdown",
   "metadata": {},
   "source": [
    "Если Вам понравилась идея с генераторами, то Вы можете реализовать свой, используя прототип batch_generator. В нем Вам нужно выдавать батчи признаков и ответов для каждой новой итерации спуска. Если не понравилась идея, то можете реализовывать SGD или mini-batch GD без генераторов."
   ]
  },
  {
   "cell_type": "code",
   "execution_count": 130,
   "metadata": {},
   "outputs": [],
   "source": [
    "from sklearn.utils import shuffle as sh\n",
    "def batch_generator(X, y, shuffle=True, batch_size=10):\n",
    "    \"\"\"\n",
    "    Гератор новых батчей для обучения\n",
    "    X          - матрица объекты-признаки\n",
    "    y_batch    - вектор ответов\n",
    "    shuffle    - нужно ли случайно перемешивать выборку\n",
    "    batch_size - размер батча ( 1 это SGD, > 1 mini-batch GD)\n",
    "    Генерирует подвыборку для итерации спуска (X_batch, y_batch)\n",
    "    \"\"\"\n",
    "    if shuffle:\n",
    "        X, y = sh(X, y, random_state=None)\n",
    "    X_batch = np.ndarray((0, X.shape[1]))\n",
    "    y_batch = np.array([])\n",
    "    for i in range(0, X.shape[0], batch_size):\n",
    "        X_batch = X[i:i + batch_size]\n",
    "        y_batch = y[i:i + batch_size]\n",
    "        yield (X_batch, y_batch)\n",
    "\n",
    "# Теперь можно сделать генератор по данным ()\n",
    "#  my_batch_generator = batch_generator(X, y, shuffle=True, batch_size=1):"
   ]
  },
  {
   "cell_type": "code",
   "execution_count": 137,
   "metadata": {},
   "outputs": [],
   "source": [
    "#%%pycodestyle\n",
    "from sklearn.metrics import mean_squared_error\n",
    "from sklearn.metrics import log_loss\n",
    "\n",
    "from sklearn.base import BaseEstimator, ClassifierMixin\n",
    "\n",
    "def sigmoid(x):\n",
    "    \"\"\"\n",
    "    Вычисляем значение сигмоида.\n",
    "    X - выход линейной модели\n",
    "    \"\"\"\n",
    "\n",
    "    ## Your code Here\n",
    "    sigm_value_x = 1 / (1 + np.exp(-x))\n",
    "    return sigm_value_x\n",
    "\n",
    "\n",
    "class MySGDClassifier(BaseEstimator, ClassifierMixin):\n",
    "    \n",
    "\n",
    "    def __init__(self, batch_generator = batch_generator, C=1, alpha=0.01, max_epoch=1000,\\\n",
    "                 model_type='lin_reg', threshold=0.5, batch_size=10):\n",
    "        \"\"\"\n",
    "        batch_generator -- функция генератор, которой будем создавать батчи\n",
    "        C - коэф. регуляризации\n",
    "        alpha - скорость спуска\n",
    "        max_epoch - максимальное количество эпох\n",
    "        model_type - тим модели, lin_reg или log_reg\n",
    "        \"\"\"\n",
    "        self.threshold = threshold\n",
    "        self.batch_size = batch_size\n",
    "        self.C = C\n",
    "        self.alpha = alpha\n",
    "        self.max_epoch = max_epoch\n",
    "        self.batch_generator = batch_generator\n",
    "        self.errors_log = {'iter' : [], 'loss' : []}  \n",
    "        self.model_type = model_type\n",
    "                        \n",
    "    def calc_loss(self, X_batch, y_batch):\n",
    "        \"\"\"\n",
    "        Считаем функцию потерь по батчу \n",
    "        X_batch - матрица объекты-признаки по батчу\n",
    "        y_batch - вектор ответов по батчу\n",
    "        Не забудте тип модели (линейная или логистическая регрессия)!\n",
    "        \"\"\"\n",
    "        if self.model_type == 'lin_reg':\n",
    "            a = np.dot(X_batch, self.weights)\n",
    "            loss = np.sum(a - y_batch)**2 / X_batch.shape[0]\n",
    "        elif self.model_type == 'log_reg':\n",
    "            a = sigmoid(np.dot(X_batch, self.weights))\n",
    "            loss = -np.sum(y_batch * np.log(a) + (1- y_batch) * np.log(1 - a)) / X_batch.shape[0]\n",
    "        return loss + np.sum(self.weights[1:] ** 2) / self.C\n",
    "    \n",
    "\n",
    "\n",
    "    def calc_loss_grad(self, X_batch, y_batch):\n",
    "        if self.model_type == 'lin_reg':\n",
    "            loss_grad = 2 * np.dot(np.dot(X_batch, self.weights) - y_batch, X_batch) / X_batch.shape[0]\n",
    "        elif self.model_type == 'log_reg':\n",
    "            a = sigmoid(np.dot(X_batch, self.weights))\n",
    "            loss_grad = np.dot(a - y_batch, X_batch) / X_batch.shape[0]\n",
    "        return loss_grad + 2 * np.array([0] + list(self.weights[1:])) / self.C\n",
    "\n",
    "    def update_weights(self, new_grad):\n",
    "        \"\"\"\n",
    "        Обновляем вектор весов\n",
    "        new_grad - градиент по батчу\n",
    "        \"\"\"\n",
    "        self.weights -= self.alpha * new_grad\n",
    "    \n",
    "    def fit(self, X, y):\n",
    "        '''\n",
    "        Обучение модели\n",
    "        X - матрица объекты-признаки\n",
    "        y - вектор ответов\n",
    "        '''\n",
    "        \n",
    "        # Нужно инициализровать случайно веса\n",
    "        self.X = np.concatenate((np.ones(X.shape[0]).reshape(-1,1), X), axis=1)\n",
    "        self.y = y        \n",
    "        self.weights = 2 * np.random.random_sample((X.shape[1] + 1, )) - 1\n",
    "        for n in range(0, self.max_epoch):\n",
    "            new_epoch_generator = self.batch_generator(self.X, self.y, batch_size=self.batch_size)\n",
    "            for batch_num, new_batch in enumerate(new_epoch_generator):\n",
    "                X_batch = new_batch[0]\n",
    "                y_batch = new_batch[1]\n",
    "                batch_loss = self.calc_loss(X_batch, y_batch)\n",
    "                batch_grad = self.calc_loss_grad(X_batch, y_batch)\n",
    "                self.update_weights(batch_grad)\n",
    "                # Подумайте в каком месте стоит посчитать ошибку для отладки модели\n",
    "                # До градиентного шага или после\n",
    "                self.errors_log['iter'].append(batch_num)\n",
    "                self.errors_log['loss'].append(batch_loss)\n",
    "        return self\n",
    "    \n",
    "    def predict(self, X):\n",
    "        '''\n",
    "        Предсказание класса\n",
    "        X - матрица объекты-признаки\n",
    "        Не забудте тип модели (линейная или логистическая регрессия)!\n",
    "        '''\n",
    "        if len(X.shape) == 1:\n",
    "            X = np.reshape(X, (1,-1))\n",
    "        X = np.concatenate((np.ones(X.shape[0]).reshape(-1,1), X), axis=1)\n",
    "        if self.model_type == 'lin_reg':\n",
    "            y_hat1 = np.dot(X, self.weights)\n",
    "            y_hat = np.heaviside(y_hat1 - self.threshold, 0)\n",
    "        elif self.model_type == 'log_reg':\n",
    "            y_hat1 = sigmoid(np.dot(X, self.weights))\n",
    "            y_hat = np.heaviside(y_hat1 - self.threshold, 0)\n",
    "        # Желательно здесь использовать матричные операции между X и весами, например, numpy.dot \n",
    "        return y_hat.astype(int)"
   ]
  },
  {
   "cell_type": "markdown",
   "metadata": {},
   "source": [
    "Запустите обе регрессии на синтетических данных. \n",
    "\n",
    "\n",
    "Выведите полученные веса и нарисуйте разделяющую границу между классами (используйте только первых два веса для первых двух признаков X[:,0], X[:,1] для отображения в 2d пространство ).  "
   ]
  },
  {
   "cell_type": "code",
   "execution_count": 138,
   "metadata": {},
   "outputs": [],
   "source": [
    "def plot_decision_boundary(clf):\n",
    "    ## Your code Here\n",
    "    w0, w1, w2, *_ = clf.weights\n",
    "    x = np.linspace(-4, 8, 50)\n",
    "    # = -w0 + x * w1\n",
    "    y = -x*(w1/w2) -w0/w2\n",
    "    plt.plot(x, y)"
   ]
  },
  {
   "cell_type": "code",
   "execution_count": 139,
   "metadata": {},
   "outputs": [
    {
     "data": {
      "text/plain": [
       "<matplotlib.collections.PathCollection at 0x7f44efeeaad0>"
      ]
     },
     "execution_count": 139,
     "metadata": {},
     "output_type": "execute_result"
    },
    {
     "data": {
      "image/png": "[encoded data removed]",
      "text/plain": [
       "<Figure size 864x360 with 1 Axes>"
      ]
     },
     "metadata": {},
     "output_type": "display_data"
    }
   ],
   "source": [
    "np.random.seed(0)\n",
    "\n",
    "C1 = np.array([[0., -0.8], [1.5, 0.8]])\n",
    "C2 = np.array([[1., -0.7], [2., 0.7]])\n",
    "gauss1 = np.dot(np.random.randn(200, 2) + np.array([5, 3]), C1)\n",
    "gauss2 = np.dot(np.random.randn(200, 2) + np.array([1.5, 0]), C2)\n",
    "\n",
    "X = np.vstack([gauss1, gauss2])\n",
    "y = np.r_[np.ones(200), np.zeros(200)]\n",
    "log_reg = MySGDClassifier(model_type='log_reg', C=1000, max_epoch=1000)\n",
    "log_reg.fit(X,y)\n",
    "plot_decision_boundary(log_reg)\n",
    "lin_reg = MySGDClassifier(model_type='lin_reg', C=1000, max_epoch=1000)\n",
    "lin_reg.fit(X,y)\n",
    "plot_decision_boundary(lin_reg)\n",
    "plt.scatter(X[:,0], X[:,1], c=y)"
   ]
  },
  {
   "cell_type": "markdown",
   "metadata": {},
   "source": [
    "Далее будем анализировать Ваш алгоритм. \n",
    "Для этих заданий используйте датасет ниже."
   ]
  },
  {
   "cell_type": "code",
   "execution_count": 127,
   "metadata": {},
   "outputs": [],
   "source": [
    "from sklearn.datasets import make_classification"
   ]
  },
  {
   "cell_type": "code",
   "execution_count": 128,
   "metadata": {},
   "outputs": [],
   "source": [
    "X, y = make_classification(n_samples=100000, n_features=10, \n",
    "                           n_informative=4, n_redundant=0, \n",
    "                           random_state=123, class_sep=1.0,\n",
    "                           n_clusters_per_class=1)"
   ]
  },
  {
   "cell_type": "markdown",
   "metadata": {},
   "source": [
    "Покажите сходимости обеих регрессией на этом датасете: изобразите график  функции потерь, усредненной по $N$ шагам градиентого спуска, для разных `alpha` (размеров шага). Разные `alpha` расположите на одном графике. \n",
    "\n",
    "$N$ можно брать 10, 50, 100 и т.д. "
   ]
  },
  {
   "cell_type": "code",
   "execution_count": 129,
   "metadata": {},
   "outputs": [
    {
     "data": {
      "text/plain": [
       "MySGDClassifier(C=1000, alpha=1,\n",
       "                batch_generator=<function batch_generator at 0x7f7703249200>,\n",
       "                batch_size=10, max_epoch=50, model_type='log_reg',\n",
       "                threshold=0.5)"
      ]
     },
     "execution_count": 129,
     "metadata": {},
     "output_type": "execute_result"
    }
   ],
   "source": [
    "## Your Code Here\n",
    "log_reg0 = MySGDClassifier(model_type='log_reg', C=1000, max_epoch=50, alpha=0.1)\n",
    "log_reg0.fit(X,y)\n",
    "log_reg1 = MySGDClassifier(model_type='log_reg', C=1000, max_epoch=50, alpha=0.01)\n",
    "log_reg1.fit(X,y)\n",
    "log_reg2 = MySGDClassifier(model_type='log_reg', C=1000, max_epoch=50, alpha=0.001)\n",
    "log_reg2.fit(X,y)\n",
    "log_reg3 = MySGDClassifier(model_type='log_reg', C=1000, max_epoch=50, alpha=1)\n",
    "log_reg3.fit(X,y)"
   ]
  },
  {
   "cell_type": "code",
   "execution_count": 130,
   "metadata": {},
   "outputs": [
    {
     "data": {
      "text/plain": [
       "[]"
      ]
     },
     "execution_count": 130,
     "metadata": {},
     "output_type": "execute_result"
    },
    {
     "data": {
      "image/png": "[encoded data removed]",
      "text/plain": [
       "<Figure size 864x360 with 1 Axes>"
      ]
     },
     "metadata": {},
     "output_type": "display_data"
    }
   ],
   "source": [
    "N = 10000\n",
    "xx = list(range(50))\n",
    "mean_loss = []\n",
    "for i in range(0, len(log_reg0.errors_log['iter']), N):\n",
    "    mean_loss.append(np.mean(log_reg0.errors_log['loss'][i : i + N]))\n",
    "plt.plot(xx, mean_loss, label=\"alpha = 0.1\")\n",
    "\n",
    "mean_loss = []\n",
    "for i in range(0, len(log_reg1.errors_log['iter']), N):\n",
    "    mean_loss.append(np.mean(log_reg1.errors_log['loss'][i : i + N]))\n",
    "plt.plot(xx, mean_loss, label=\"alpha = 0.01\")\n",
    "\n",
    "mean_loss = []\n",
    "for i in range(0, len(log_reg2.errors_log['iter']), N):\n",
    "    mean_loss.append(np.mean(log_reg2.errors_log['loss'][i : i + N]))\n",
    "plt.plot(xx, mean_loss, label=\"alpha = 0.001\")\n",
    "\n",
    "mean_loss = []\n",
    "for i in range(0, len(log_reg3.errors_log['iter']), N):\n",
    "    mean_loss.append(np.mean(log_reg3.errors_log['loss'][i : i + N]))\n",
    "plt.plot(xx, mean_loss, label=\"alpha = 1\")\n",
    "\n",
    "plt.title('logistic regression')\n",
    "plt.ylabel('loss')\n",
    "plt.xlabel('iteration / 1000')\n",
    "plt.legend()\n",
    "plt.plot()"
   ]
  },
  {
   "cell_type": "code",
   "execution_count": 131,
   "metadata": {},
   "outputs": [
    {
     "data": {
      "text/plain": [
       "MySGDClassifier(C=1000, alpha=0.001,\n",
       "                batch_generator=<function batch_generator at 0x7f7703249200>,\n",
       "                batch_size=10, max_epoch=50, model_type='lin_reg',\n",
       "                threshold=0.5)"
      ]
     },
     "execution_count": 131,
     "metadata": {},
     "output_type": "execute_result"
    }
   ],
   "source": [
    "lin_reg0 = MySGDClassifier(model_type='lin_reg', C=1000, max_epoch=50, alpha=0.1)\n",
    "lin_reg0.fit(X,y)\n",
    "lin_reg1 = MySGDClassifier(model_type='lin_reg', C=1000, max_epoch=50, alpha=0.01)\n",
    "lin_reg1.fit(X,y)\n",
    "lin_reg2 = MySGDClassifier(model_type='lin_reg', C=1000, max_epoch=50, alpha=0.001)\n",
    "lin_reg2.fit(X,y)"
   ]
  },
  {
   "cell_type": "code",
   "execution_count": 132,
   "metadata": {},
   "outputs": [
    {
     "data": {
      "text/plain": [
       "[]"
      ]
     },
     "execution_count": 132,
     "metadata": {},
     "output_type": "execute_result"
    },
    {
     "data": {
      "image/png": "[encoded data removed]",
      "text/plain": [
       "<Figure size 864x360 with 1 Axes>"
      ]
     },
     "metadata": {},
     "output_type": "display_data"
    }
   ],
   "source": [
    "N = 10000\n",
    "xx = list(range(50))\n",
    "mean_loss = []\n",
    "for i in range(0, len(lin_reg0.errors_log['iter']), N):\n",
    "    mean_loss.append(np.mean(lin_reg0.errors_log['loss'][i : i + N]))\n",
    "plt.plot(xx, mean_loss, label=\"alpha = 0.1\")\n",
    "\n",
    "mean_loss = []\n",
    "for i in range(0, len(lin_reg1.errors_log['iter']), N):\n",
    "    mean_loss.append(np.mean(lin_reg1.errors_log['loss'][i : i + N]))\n",
    "plt.plot(xx, mean_loss, label=\"alpha = 0.01\")\n",
    "\n",
    "mean_loss = []\n",
    "for i in range(0, len(lin_reg2.errors_log['iter']), N):\n",
    "    mean_loss.append(np.mean(lin_reg2.errors_log['loss'][i : i + N]))\n",
    "plt.plot(xx, mean_loss, label=\"alpha = 0.001\")\n",
    "\n",
    "plt.title('linear regression')\n",
    "plt.ylabel('loss')\n",
    "plt.xlabel('iteration / 1000')\n",
    "plt.legend()\n",
    "plt.plot()"
   ]
  },
  {
   "cell_type": "markdown",
   "metadata": {},
   "source": [
    "Что Вы можете сказать про сходимость метода при различных `alpha`? Какое значение стоит выбирать для лучшей сходимости?"
   ]
  },
  {
   "cell_type": "markdown",
   "metadata": {},
   "source": [
    "**Как мы видим, логистическая регрессия плохо себя показывает при alpha = 1. Линейная регрессия плохо себя показывает уже при alpha = 0.1, а лучше всего при alpha = 0.01**"
   ]
  },
  {
   "cell_type": "markdown",
   "metadata": {},
   "source": [
    "Изобразите график среднего значения весов для обеих регрессий в зависимости от коеф. регуляризации С из `np.logspace(3, -3, 10)` "
   ]
  },
  {
   "cell_type": "code",
   "execution_count": 133,
   "metadata": {},
   "outputs": [
    {
     "data": {
      "text/plain": [
       "[]"
      ]
     },
     "execution_count": 133,
     "metadata": {},
     "output_type": "execute_result"
    },
    {
     "data": {
      "image/png": "[encoded data removed]",
      "text/plain": [
       "<Figure size 864x360 with 1 Axes>"
      ]
     },
     "metadata": {},
     "output_type": "display_data"
    }
   ],
   "source": [
    "## Your Code Here\n",
    "weights_lin = []\n",
    "for C in np.logspace(3, -3, 10):\n",
    "    linear = MySGDClassifier(batch_generator, model_type='lin_reg', alpha=0.01, max_epoch=50, C=C)\n",
    "    linear.fit(X, y)\n",
    "    weights_lin.append(np.mean(linear.weights))\n",
    "weights_log = []\n",
    "for C in np.logspace(3, -3, 10):\n",
    "    logistic = MySGDClassifier(batch_generator, model_type='log_reg', alpha=0.01, max_epoch=50, C=C)\n",
    "    logistic.fit(X, y)\n",
    "    weights_log.append(np.mean(logistic.weights))\n",
    "plt.plot(np.logspace(3, -3, 10), weights_lin, label='linear regression')\n",
    "plt.plot(np.logspace(3, -3, 10), weights_log, label='logistic regression')\n",
    "plt.ylabel('Mean weights value')\n",
    "plt.xlabel('Coefficient C')\n",
    "plt.legend()\n",
    "plt.plot()"
   ]
  },
  {
   "cell_type": "markdown",
   "metadata": {},
   "source": [
    "Довольны ли Вы, насколько сильно уменьшились Ваши веса? "
   ]
  },
  {
   "cell_type": "markdown",
   "metadata": {},
   "source": [
    "**Да, я доволен**"
   ]
  },
  {
   "cell_type": "markdown",
   "metadata": {},
   "source": [
    "# Боевое применение (4  балла)\n",
    "\n",
    "**Защита данной части возможна только при преодолении в проекте бейзлайна Handmade baseline.**"
   ]
  },
  {
   "cell_type": "markdown",
   "metadata": {},
   "source": [
    "Давайте применим модель на итоговом проекте! Датасет сделаем точно таким же образом, как было показано в project_overview.ipynb\n",
    "\n",
    "Применим обе регрессии, подберем для них параметры и сравним качество. Может быть Вы еще одновременно с решением домашней работы подрастете на лидерборде!"
   ]
  },
  {
   "cell_type": "code",
   "execution_count": 118,
   "metadata": {},
   "outputs": [
    {
     "name": "stdout",
     "output_type": "stream",
     "text": [
      "28026\n"
     ]
    }
   ],
   "source": [
    "doc_to_title = {}\n",
    "with open('./project_files/docs_titles.tsv') as f:\n",
    "    for num_line, line in enumerate(f):\n",
    "        if num_line == 0:\n",
    "            continue\n",
    "        data = line.strip().split('\\t', 1)\n",
    "        doc_id = int(data[0])\n",
    "        if len(data) == 1:\n",
    "            title = ''\n",
    "        else:\n",
    "            title = data[1]\n",
    "        doc_to_title[doc_id] = title\n",
    "print (len(doc_to_title))\n"
   ]
  },
  {
   "cell_type": "code",
   "execution_count": 119,
   "metadata": {},
   "outputs": [],
   "source": [
    "import pandas as pd\n",
    "train_data = pd.read_csv('./project_files/train_groups.csv')\n",
    "traingroups_titledata = {}\n",
    "for i in range(len(train_data)):\n",
    "    new_doc = train_data.iloc[i]\n",
    "    doc_group = new_doc['group_id']\n",
    "    doc_id = new_doc['doc_id']\n",
    "    target = new_doc['target']\n",
    "    title = doc_to_title[doc_id]\n",
    "    if doc_group not in traingroups_titledata:\n",
    "        traingroups_titledata[doc_group] = []\n",
    "    traingroups_titledata[doc_group].append((doc_id, title, target))"
   ]
  },
  {
   "cell_type": "code",
   "execution_count": 120,
   "metadata": {},
   "outputs": [
    {
     "name": "stdout",
     "output_type": "stream",
     "text": [
      "(11690, 15) (11690,) (11690,)\n"
     ]
    }
   ],
   "source": [
    "import numpy as np\n",
    "y_train = []\n",
    "X_train = []\n",
    "groups_train = []\n",
    "for new_group in traingroups_titledata:\n",
    "    docs = traingroups_titledata[new_group]\n",
    "    for k, (doc_id, title, target_id) in enumerate(docs):\n",
    "        y_train.append(target_id)\n",
    "        groups_train.append(new_group)\n",
    "        all_dist = []\n",
    "        words = set(title.strip().split())\n",
    "        for j in range(0, len(docs)):\n",
    "            if k == j:\n",
    "                continue\n",
    "            doc_id_j, title_j, target_j = docs[j]\n",
    "            words_j = set(title_j.strip().split())\n",
    "            all_dist.append(len(words.intersection(words_j)))\n",
    "        X_train.append(sorted(all_dist, reverse=True)[0:15]    )\n",
    "X_train = np.array(X_train)\n",
    "y_train = np.array(y_train)\n",
    "groups_train = np.array(groups_train)\n",
    "print (X_train.shape, y_train.shape, groups_train.shape)"
   ]
  },
  {
   "cell_type": "markdown",
   "metadata": {},
   "source": [
    "Подберите размер батча для обучения. Линейная модель не должна учиться дольше нескольких минут. \n",
    "\n",
    "Не забывайте использовать скейлер!"
   ]
  },
  {
   "cell_type": "code",
   "execution_count": 9,
   "metadata": {},
   "outputs": [],
   "source": [
    "from sklearn.metrics import f1_score\n",
    "from sklearn.linear_model import LinearRegression\n",
    "from sklearn.preprocessing import StandardScaler"
   ]
  },
  {
   "cell_type": "markdown",
   "metadata": {},
   "source": [
    "Разбейте данные на обучение и валидацию. Подберите параметры C, alpha, max_epoch, model_type на валидации (Вы же помните, как правильно в этой задаче делать валидацию?)"
   ]
  },
  {
   "cell_type": "markdown",
   "metadata": {},
   "source": [
    "**Сначала ищем коэффициент С для логистической регрессии**"
   ]
  },
  {
   "cell_type": "code",
   "execution_count": 49,
   "metadata": {},
   "outputs": [],
   "source": [
    "from sklearn.model_selection import KFold"
   ]
  },
  {
   "cell_type": "code",
   "execution_count": 103,
   "metadata": {},
   "outputs": [
    {
     "name": "stdout",
     "output_type": "stream",
     "text": [
      "mean f1 score among all folds:  0.5082075874976891  C=  1000.0\n",
      "mean f1 score among all folds:  0.5185252077731215  C=  439.3970560760791\n",
      "mean f1 score among all folds:  0.5180129679178929  C=  193.06977288832496\n",
      "mean f1 score among all folds:  0.5304813903351311  C=  84.83428982440721\n",
      "mean f1 score among all folds:  0.5288038902838775  C=  37.2759372031494\n",
      "mean f1 score among all folds:  0.551587305045873  C=  16.378937069540637\n",
      "mean f1 score among all folds:  0.5644124781246131  C=  7.196856730011521\n",
      "mean f1 score among all folds:  0.5801432757138356  C=  3.1622776601683795\n",
      "mean f1 score among all folds:  0.6003258567398656  C=  1.3894954943731375\n",
      "mean f1 score among all folds:  0.6093627269938084  C=  0.6105402296585326\n",
      "mean f1 score among all folds:  0.6111335624502501  C=  0.2682695795279725\n",
      "mean f1 score among all folds:  0.6120155969358873  C=  0.11787686347935866\n",
      "mean f1 score among all folds:  0.6100702496398658  C=  0.05179474679231213\n",
      "mean f1 score among all folds:  0.6104977537640736  C=  0.022758459260747863\n",
      "mean f1 score among all folds:  0.5998438245300981  C=  0.01\n"
     ]
    }
   ],
   "source": [
    "def find_best_C_roughly():\n",
    "    scores1 = []\n",
    "    for C in np.logspace(3, -2, 15):\n",
    "        kf = KFold(n_splits=5)\n",
    "        scores = []\n",
    "        for train_index, val_index in kf.split(X_train_transformed):\n",
    "            my_reg = MySGDClassifier(batch_generator, model_type='log_reg', alpha=0.01, max_epoch=25, C=C)\n",
    "            data_train, data_val = X_train_transformed[train_index], X_train_transformed[val_index]\n",
    "            target_train, target_val = y_train[train_index], y_train[val_index]\n",
    "            my_reg.fit(data_train, target_train)\n",
    "            pred = my_reg.predict(data_val)\n",
    "            score = f1_score(target_val, pred)\n",
    "            scores.append(score / 5)\n",
    "        scores = sum(scores)\n",
    "        scores1.append(scores)\n",
    "        print('mean f1 score among all folds: ', scores, ' C= ', C)\n",
    "    return scores1\n",
    "log_reg_c = find_best_C_roughly()"
   ]
  },
  {
   "cell_type": "markdown",
   "metadata": {},
   "source": [
    "**Ищем коэффициент alpha**"
   ]
  },
  {
   "cell_type": "code",
   "execution_count": 105,
   "metadata": {},
   "outputs": [
    {
     "name": "stdout",
     "output_type": "stream",
     "text": [
      "mean f1 score among all folds:  0.24817838812169074  alpha=  0.03162277660168379\n",
      "mean f1 score among all folds:  0.48895884890104546  alpha=  0.020961799924531267\n",
      "mean f1 score among all folds:  0.5381455946833875  alpha=  0.013894954943731374\n",
      "mean f1 score among all folds:  0.4111390362381264  alpha=  0.00921055317689482\n",
      "mean f1 score among all folds:  0.48234784496464356  alpha=  0.006105402296585327\n",
      "mean f1 score among all folds:  0.5032387478852118  alpha=  0.004047089950759761\n",
      "mean f1 score among all folds:  0.5092045827123219  alpha=  0.002682695795279727\n",
      "mean f1 score among all folds:  0.49089964100626005  alpha=  0.0017782794100389228\n",
      "mean f1 score among all folds:  0.49255488267308456  alpha=  0.0011787686347935866\n",
      "mean f1 score among all folds:  0.480582868157964  alpha=  0.0007813707376518093\n",
      "mean f1 score among all folds:  0.4974732205266535  alpha=  0.0005179474679231213\n",
      "mean f1 score among all folds:  0.46764201926294124  alpha=  0.00034333200182819933\n",
      "mean f1 score among all folds:  0.4704715236018536  alpha=  0.00022758459260747887\n",
      "mean f1 score among all folds:  0.4754920827967133  alpha=  0.00015085907086001776\n",
      "mean f1 score among all folds:  0.48552073896337866  alpha=  0.0001\n"
     ]
    }
   ],
   "source": [
    "def find_best_alpha_roughly():\n",
    "    scores1 = []\n",
    "    for alpha in np.logspace(-1.5, -4, 15):\n",
    "        kf = KFold(n_splits=5)\n",
    "        scores = []\n",
    "        for train_index, val_index in kf.split(X_train_transformed):\n",
    "            my_reg = MySGDClassifier(batch_generator, model_type='lin_reg', alpha=alpha, max_epoch=25)            \n",
    "            data_train, data_val = X_train_transformed[train_index], X_train_transformed[val_index]\n",
    "            my_reg.fit(data_train, y_train[train_index])\n",
    "            pred = my_reg.predict(data_val)\n",
    "\n",
    "            score = f1_score(y_train[val_index], np.around(pred).astype(int))\n",
    "            scores.append(score/5)\n",
    "        scores = sum(scores)\n",
    "        scores1.append(scores)\n",
    "        print('mean f1 score among all folds: ', scores, ' alpha= ', alpha)\n",
    "    return scores1\n",
    "lin_reg_alpha = find_best_alpha_roughly()"
   ]
  },
  {
   "cell_type": "code",
   "execution_count": 106,
   "metadata": {},
   "outputs": [
    {
     "name": "stdout",
     "output_type": "stream",
     "text": [
      "mean f1 score among all folds:  0.5670539684496081  alpha=  0.03162277660168379\n",
      "mean f1 score among all folds:  0.6123801974533992  alpha=  0.020961799924531267\n",
      "mean f1 score among all folds:  0.6092734104578517  alpha=  0.013894954943731374\n",
      "mean f1 score among all folds:  0.6097366485598213  alpha=  0.00921055317689482\n",
      "mean f1 score among all folds:  0.6130308952125679  alpha=  0.006105402296585327\n",
      "mean f1 score among all folds:  0.6110657297706944  alpha=  0.004047089950759761\n",
      "mean f1 score among all folds:  0.6105904087199812  alpha=  0.002682695795279727\n",
      "mean f1 score among all folds:  0.6112694643089048  alpha=  0.0017782794100389228\n",
      "mean f1 score among all folds:  0.6116637499276987  alpha=  0.0011787686347935866\n",
      "mean f1 score among all folds:  0.6114679574060402  alpha=  0.0007813707376518093\n",
      "mean f1 score among all folds:  0.6111972604368225  alpha=  0.0005179474679231213\n",
      "mean f1 score among all folds:  0.6110367261608001  alpha=  0.00034333200182819933\n",
      "mean f1 score among all folds:  0.6115794415468389  alpha=  0.00022758459260747887\n",
      "mean f1 score among all folds:  0.6111187338821839  alpha=  0.00015085907086001776\n",
      "mean f1 score among all folds:  0.611295824264751  alpha=  0.0001\n"
     ]
    }
   ],
   "source": [
    "def find_best_alpha_roughly():\n",
    "    scores1 = []\n",
    "    for alpha in np.logspace(-1.5, -4, 15):\n",
    "        kf = KFold(n_splits=5)\n",
    "        scores = []\n",
    "        for train_index, val_index in kf.split(X_train_transformed):\n",
    "            my_reg = MySGDClassifier(batch_generator, model_type='log_reg', alpha=alpha, max_epoch=25, C=0.12)\n",
    "            data_train, data_val = X_train_transformed[train_index], X_train_transformed[val_index]\n",
    "            my_reg.fit(data_train, y_train[train_index])\n",
    "            pred = my_reg.predict(data_val)\n",
    "\n",
    "            score = f1_score(y_train[val_index], np.around(pred).astype(int))\n",
    "            scores.append(score/5)\n",
    "        scores = sum(scores)\n",
    "        scores1.append(scores)\n",
    "        print('mean f1 score among all folds: ', scores, ' alpha= ', alpha)\n",
    "    return scores1\n",
    "log_reg_alpha = find_best_alpha_roughly()"
   ]
  },
  {
   "cell_type": "code",
   "execution_count": 107,
   "metadata": {},
   "outputs": [
    {
     "name": "stdout",
     "output_type": "stream",
     "text": [
      "mean f1 score among all folds:  0.30560090843506826  max_epoch=  0\n",
      "mean f1 score among all folds:  0.531566156947957  max_epoch=  25\n",
      "mean f1 score among all folds:  0.4867322482012699  max_epoch=  50\n",
      "mean f1 score among all folds:  0.4464387629496155  max_epoch=  75\n",
      "mean f1 score among all folds:  0.3831716483796954  max_epoch=  100\n",
      "mean f1 score among all folds:  0.41269955065527336  max_epoch=  125\n",
      "mean f1 score among all folds:  0.39136772291601335  max_epoch=  150\n",
      "mean f1 score among all folds:  0.5231401039415986  max_epoch=  175\n",
      "mean f1 score among all folds:  0.4890280511766318  max_epoch=  200\n",
      "mean f1 score among all folds:  0.41181281479807674  max_epoch=  225\n",
      "mean f1 score among all folds:  0.5349726078747984  max_epoch=  250\n",
      "mean f1 score among all folds:  0.39756403849808986  max_epoch=  275\n",
      "mean f1 score among all folds:  0.3688754525766031  max_epoch=  300\n"
     ]
    }
   ],
   "source": [
    "def find_best_max_epoch():\n",
    "    scores1 = []\n",
    "    for max_epoch in range(0,301,25):\n",
    "        kf = KFold(n_splits=5)\n",
    "        scores = []\n",
    "        for train_index, val_index in kf.split(X_train_transformed):\n",
    "            my_reg = MySGDClassifier(batch_generator, model_type='lin_reg', alpha=0.014, max_epoch=max_epoch)\n",
    "            data_train, data_val = X_train_transformed[train_index], X_train_transformed[val_index]\n",
    "            my_reg.fit(data_train, y_train[train_index])\n",
    "            pred = my_reg.predict(data_val)\n",
    "\n",
    "            score = f1_score(y_train[val_index], np.around(pred).astype(int))\n",
    "            scores.append(score/5)\n",
    "        scores = sum(scores)\n",
    "        scores1.append(scores)\n",
    "        print('mean f1 score among all folds: ', scores, ' max_epoch= ', max_epoch)\n",
    "    return scores1\n",
    "lin_reg_alpha = find_best_max_epoch()"
   ]
  },
  {
   "cell_type": "markdown",
   "metadata": {},
   "source": [
    "**Еще несколько раз проверили, на 50 эпохах стабильно получаются хорошие результаты**"
   ]
  },
  {
   "cell_type": "code",
   "execution_count": 114,
   "metadata": {},
   "outputs": [
    {
     "name": "stdout",
     "output_type": "stream",
     "text": [
      "mean f1 score among all folds:  0.3657518531741729  max_epoch=  0\n",
      "mean f1 score among all folds:  0.30930625416796276  max_epoch=  25\n",
      "mean f1 score among all folds:  0.4920054846837775  max_epoch=  50\n",
      "mean f1 score among all folds:  0.3381615668000475  max_epoch=  75\n",
      "mean f1 score among all folds:  0.4305949042521487  max_epoch=  100\n"
     ]
    }
   ],
   "source": [
    "def find_best_max_epoch():\n",
    "    scores1 = []\n",
    "    for max_epoch in range(0,101,25):\n",
    "        kf = KFold(n_splits=5)\n",
    "        scores = []\n",
    "        for train_index, val_index in kf.split(X_train_transformed):\n",
    "            my_reg = MySGDClassifier(batch_generator, model_type='lin_reg', alpha=0.014, max_epoch=max_epoch)\n",
    "            data_train, data_val = X_train_transformed[train_index], X_train_transformed[val_index]\n",
    "            my_reg.fit(data_train, y_train[train_index])\n",
    "            pred = my_reg.predict(data_val)\n",
    "\n",
    "            score = f1_score(y_train[val_index], np.around(pred).astype(int))\n",
    "            scores.append(score/5)\n",
    "        scores = sum(scores)\n",
    "        scores1.append(scores)\n",
    "        print('mean f1 score among all folds: ', scores, ' max_epoch= ', max_epoch)\n",
    "    return scores1\n",
    "lin_reg_alpha = find_best_max_epoch()"
   ]
  },
  {
   "cell_type": "code",
   "execution_count": 109,
   "metadata": {},
   "outputs": [
    {
     "name": "stdout",
     "output_type": "stream",
     "text": [
      "mean f1 score among all folds:  0.3513791608320633  max_epoch=  0\n",
      "mean f1 score among all folds:  0.6104338276156596  max_epoch=  25\n",
      "mean f1 score among all folds:  0.6125757394799425  max_epoch=  50\n",
      "mean f1 score among all folds:  0.6120065265185383  max_epoch=  75\n",
      "mean f1 score among all folds:  0.6116082413859835  max_epoch=  100\n",
      "mean f1 score among all folds:  0.6113299202886437  max_epoch=  125\n",
      "mean f1 score among all folds:  0.6119641859309812  max_epoch=  150\n"
     ]
    }
   ],
   "source": [
    "def find_best_max_epoch():\n",
    "    scores1 = []\n",
    "    for max_epoch in range(0,151,25):\n",
    "        kf = KFold(n_splits=5)\n",
    "        scores = []\n",
    "        for train_index, val_index in kf.split(X_train_transformed):\n",
    "            my_reg = MySGDClassifier(batch_generator, model_type='log_reg', alpha=0.006, max_epoch=max_epoch, C=0.12)\n",
    "            data_train, data_val = X_train_transformed[train_index], X_train_transformed[val_index]\n",
    "            my_reg.fit(data_train, y_train[train_index])\n",
    "            pred = my_reg.predict(data_val)\n",
    "\n",
    "            score = f1_score(y_train[val_index], np.around(pred).astype(int))\n",
    "            scores.append(score/5)\n",
    "        scores = sum(scores)\n",
    "        scores1.append(scores)\n",
    "        print('mean f1 score among all folds: ', scores, ' max_epoch= ', max_epoch)\n",
    "    return scores1\n",
    "log_reg_alpha = find_best_max_epoch()"
   ]
  },
  {
   "cell_type": "markdown",
   "metadata": {
    "collapsed": true
   },
   "source": [
    "Подберите порог линейной модели, по достижении которого, Вы будете относить объект к классу 1. Вспомните, какую метрику мы оптимизируем в соревновании.  Как тогда правильно подобрать порог?"
   ]
  },
  {
   "cell_type": "code",
   "execution_count": 116,
   "metadata": {},
   "outputs": [
    {
     "name": "stdout",
     "output_type": "stream",
     "text": [
      "mean f1 score among all folds:  0.44450526537152873  threshold=  0.1\n",
      "mean f1 score among all folds:  0.44450526537152873  threshold=  0.2\n",
      "mean f1 score among all folds:  0.44450526537152873  threshold=  0.30000000000000004\n",
      "mean f1 score among all folds:  0.44450526537152873  threshold=  0.4\n",
      "mean f1 score among all folds:  0.6100502214845428  threshold=  0.5\n",
      "mean f1 score among all folds:  0.3150311938325597  threshold=  0.6\n",
      "mean f1 score among all folds:  0.025798500013950426  threshold=  0.7000000000000001\n",
      "mean f1 score among all folds:  0.0006611570247933885  threshold=  0.8\n",
      "mean f1 score among all folds:  0.0  threshold=  0.9\n"
     ]
    }
   ],
   "source": [
    "def find_best_threshold():\n",
    "    scores1 = []\n",
    "    for threshold in np.linspace(0.1, 0.9, 9):\n",
    "        kf = KFold(n_splits=5)\n",
    "        scores = []\n",
    "        for train_index, val_index in kf.split(X_train_transformed):\n",
    "            my_reg = MySGDClassifier(batch_generator, model_type='log_reg', alpha=0.006, max_epoch=50, C=0.12, threshold=threshold)\n",
    "            data_train, data_val = X_train_transformed[train_index], X_train_transformed[val_index]\n",
    "            my_reg.fit(data_train, y_train[train_index])\n",
    "            pred = my_reg.predict(data_val)\n",
    "\n",
    "            score = f1_score(y_train[val_index], np.around(pred).astype(int))\n",
    "            scores.append(score/5)\n",
    "        scores = sum(scores)\n",
    "        scores1.append(scores)\n",
    "        print('mean f1 score among all folds: ', scores, ' threshold= ', threshold)\n",
    "    return scores1\n",
    "log_reg_alpha = find_best_threshold()"
   ]
  },
  {
   "cell_type": "code",
   "execution_count": 117,
   "metadata": {},
   "outputs": [
    {
     "name": "stdout",
     "output_type": "stream",
     "text": [
      "mean f1 score among all folds:  0.44450526537152873  threshold=  0.4\n",
      "mean f1 score among all folds:  0.4964559902044251  threshold=  0.45\n",
      "mean f1 score among all folds:  0.6116222697746656  threshold=  0.5\n",
      "mean f1 score among all folds:  0.526126766716936  threshold=  0.55\n",
      "mean f1 score among all folds:  0.265723414537269  threshold=  0.6\n"
     ]
    }
   ],
   "source": [
    "def find_best_threshold():\n",
    "    scores1 = []\n",
    "    for threshold in np.linspace(0.4, 0.6, 5):\n",
    "        kf = KFold(n_splits=5)\n",
    "        scores = []\n",
    "        for train_index, val_index in kf.split(X_train_transformed):\n",
    "            my_reg = MySGDClassifier(batch_generator, model_type='log_reg', alpha=0.006, max_epoch=50, C=0.12, threshold=threshold)\n",
    "            data_train, data_val = X_train_transformed[train_index], X_train_transformed[val_index]\n",
    "            my_reg.fit(data_train, y_train[train_index])\n",
    "            pred = my_reg.predict(data_val)\n",
    "\n",
    "            score = f1_score(y_train[val_index], np.around(pred).astype(int))\n",
    "            scores.append(score/5)\n",
    "        scores = sum(scores)\n",
    "        scores1.append(scores)\n",
    "        print('mean f1 score among all folds: ', scores, ' threshold= ', threshold)\n",
    "    return scores1\n",
    "lin_reg_alpha = find_best_threshold()"
   ]
  },
  {
   "cell_type": "code",
   "execution_count": 118,
   "metadata": {},
   "outputs": [
    {
     "name": "stdout",
     "output_type": "stream",
     "text": [
      "mean f1 score among all folds:  0.48117192573338663  threshold=  0.1\n",
      "mean f1 score among all folds:  0.5695126479999687  threshold=  0.2\n",
      "mean f1 score among all folds:  0.6092042602328754  threshold=  0.30000000000000004\n",
      "mean f1 score among all folds:  0.5842187046033888  threshold=  0.4\n",
      "mean f1 score among all folds:  0.5177368878409144  threshold=  0.5\n",
      "mean f1 score among all folds:  0.4101406757760471  threshold=  0.6\n",
      "mean f1 score among all folds:  0.10246751306945481  threshold=  0.7000000000000001\n",
      "mean f1 score among all folds:  0.20753598517532557  threshold=  0.8\n",
      "mean f1 score among all folds:  0.14952494311244036  threshold=  0.9\n"
     ]
    }
   ],
   "source": [
    "def find_best_threshold():\n",
    "    scores1 = []\n",
    "    for threshold in np.linspace(0.1, 0.9, 9):\n",
    "        kf = KFold(n_splits=5)\n",
    "        scores = []\n",
    "        for train_index, val_index in kf.split(X_train_transformed):\n",
    "            my_reg = MySGDClassifier(batch_generator, model_type='lin_reg', alpha=0.014, max_epoch=50, threshold=threshold)\n",
    "            data_train, data_val = X_train_transformed[train_index], X_train_transformed[val_index]\n",
    "            my_reg.fit(data_train, y_train[train_index])\n",
    "            pred = my_reg.predict(data_val)\n",
    "\n",
    "            score = f1_score(y_train[val_index], np.around(pred).astype(int))\n",
    "            scores.append(score/5)\n",
    "        scores = sum(scores)\n",
    "        scores1.append(scores)\n",
    "        print('mean f1 score among all folds: ', scores, ' threshold= ', threshold)\n",
    "    return scores1\n",
    "lin_reg_alpha = find_best_threshold()"
   ]
  },
  {
   "cell_type": "code",
   "execution_count": 126,
   "metadata": {},
   "outputs": [
    {
     "name": "stdout",
     "output_type": "stream",
     "text": [
      "mean f1 score among all folds:  0.581586760336285  threshold=  0.2\n",
      "mean f1 score among all folds:  0.585271988405841  threshold=  0.25\n",
      "mean f1 score among all folds:  0.6055282191956649  threshold=  0.30000000000000004\n",
      "mean f1 score among all folds:  0.5968491107528562  threshold=  0.35000000000000003\n",
      "mean f1 score among all folds:  0.4997063280112276  threshold=  0.4\n"
     ]
    }
   ],
   "source": [
    "def find_best_threshold():\n",
    "    scores1 = []\n",
    "    for threshold in np.linspace(0.2, 0.4, 5):\n",
    "        kf = KFold(n_splits=5)\n",
    "        scores = []\n",
    "        for train_index, val_index in kf.split(X_train_transformed):\n",
    "            my_reg = MySGDClassifier(batch_generator, model_type='lin_reg', alpha=0.014, max_epoch=50, threshold=threshold)\n",
    "            data_train, data_val = X_train_transformed[train_index], X_train_transformed[val_index]\n",
    "            my_reg.fit(data_train, y_train[train_index])\n",
    "            pred = my_reg.predict(data_val)\n",
    "\n",
    "            score = f1_score(y_train[val_index], np.around(pred).astype(int))\n",
    "            scores.append(score/5)\n",
    "        scores = sum(scores)\n",
    "        scores1.append(scores)\n",
    "        print('mean f1 score among all folds: ', scores, ' threshold= ', threshold)\n",
    "    return scores1\n",
    "lin_reg_alpha = find_best_threshold()"
   ]
  },
  {
   "cell_type": "markdown",
   "metadata": {},
   "source": [
    "**Лучшие параметры: \n",
    "линейная: alpha = 0.014, max_epochs = 50, threshold = 0.3, \n",
    "логистическая: alpha = 0.006, C = 0.12, max_epochs = 50, threshold = 0.5**"
   ]
  },
  {
   "cell_type": "markdown",
   "metadata": {},
   "source": [
    "С лучшими параметрами на валидации сделайте предсказание на тестовом множестве, отправьте его на проверку на платформу kaggle. Убедитесь, что Вы смогли побить public score первого бейзлайна."
   ]
  },
  {
   "cell_type": "markdown",
   "metadata": {
    "collapsed": true
   },
   "source": [
    "** При сдаче домашки Вам необходимо кроме ссылки на ноутбук показать Ваш ник на kaggle, под которым Вы залили решение, которое побило Handmade baseline. **"
   ]
  },
  {
   "cell_type": "markdown",
   "metadata": {},
   "source": [
    "**Никнейм: Ilyas Suleymanov.\n",
    "На kaggle логистическая регрессия дала результат 0.60644, линейная 0.59850**"
   ]
  },
  {
   "cell_type": "markdown",
   "metadata": {},
   "source": [
    "# Фидбек (бесценно)"
   ]
  },
  {
   "cell_type": "markdown",
   "metadata": {},
   "source": [
    "* Какие аспекты обучения линейных моделей Вам показались непонятными? Какое место стоит дополнительно объяснить?"
   ]
  },
  {
   "cell_type": "markdown",
   "metadata": {},
   "source": [
    "***Ваше ответ здесь***"
   ]
  },
  {
   "cell_type": "markdown",
   "metadata": {},
   "source": [
    "* Здесь Вы можете оставить отзыв о этой домашней работе или о всем курсе.   "
   ]
  },
  {
   "cell_type": "markdown",
   "metadata": {},
   "source": [
    "*** ВАШ ОТЗЫВ ЗДЕСЬ***"
   ]
  },
  {
   "cell_type": "code",
   "execution_count": null,
   "metadata": {
    "collapsed": true
   },
   "outputs": [],
   "source": []
  },
  {
   "cell_type": "code",
   "execution_count": null,
   "metadata": {
    "collapsed": true
   },
   "outputs": [],
   "source": []
  }
 ],
 "metadata": {
  "anaconda-cloud": {},
  "kernelspec": {
   "display_name": "Python 3",
   "language": "python",
   "name": "python3"
  },
  "language_info": {
   "codemirror_mode": {
    "name": "ipython",
    "version": 3
   },
   "file_extension": ".py",
   "mimetype": "text/x-python",
   "name": "python",
   "nbconvert_exporter": "python",
   "pygments_lexer": "ipython3",
   "version": "3.7.6"
  },
  "nav_menu": {},
  "toc": {
   "colors": {
    "hover_highlight": "#DAA520",
    "navigate_num": "#000000",
    "navigate_text": "#333333",
    "running_highlight": "#FF0000",
    "selected_highlight": "#FFD700",
    "sidebar_border": "#EEEEEE",
    "wrapper_background": "#FFFFFF"
   },
   "moveMenuLeft": true,
   "nav_menu": {
    "height": "402px",
    "width": "253px"
   },
   "navigate_menu": true,
   "number_sections": false,
   "sideBar": true,
   "threshold": 4,
   "toc_cell": false,
   "toc_section_display": "block",
   "toc_window_display": true,
   "widenNotebook": false
  }
 },
 "nbformat": 4,
 "nbformat_minor": 2
}
